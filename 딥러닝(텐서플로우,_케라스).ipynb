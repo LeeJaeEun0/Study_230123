{
  "nbformat": 4,
  "nbformat_minor": 0,
  "metadata": {
    "colab": {
      "provenance": [],
      "toc_visible": true,
      "authorship_tag": "ABX9TyPT2aYZUIF33W0geHHYcLp0",
      "include_colab_link": true
    },
    "kernelspec": {
      "name": "python3",
      "display_name": "Python 3"
    },
    "language_info": {
      "name": "python"
    }
  },
  "cells": [
    {
      "cell_type": "markdown",
      "metadata": {
        "id": "view-in-github",
        "colab_type": "text"
      },
      "source": [
        "<a href=\"https://colab.research.google.com/github/LeeJaeEun0/Study_230123/blob/main/%EB%94%A5%EB%9F%AC%EB%8B%9D(%ED%85%90%EC%84%9C%ED%94%8C%EB%A1%9C%EC%9A%B0%2C_%EC%BC%80%EB%9D%BC%EC%8A%A4).ipynb\" target=\"_parent\"><img src=\"https://colab.research.google.com/assets/colab-badge.svg\" alt=\"Open In Colab\"/></a>"
      ]
    },
    {
      "cell_type": "markdown",
      "source": [
        "# 인공신경망(Artificial Neural Network)\n",
        "* 인강 두뇌에 대한 계산적 모델을 통해 인공지능을 구현하려는 분야\n",
        "* 인간의 뇌 구조를 모방: 뉴런과 뉴런 사이에는 전기 신호를 통해 정보를 전달\n"
      ],
      "metadata": {
        "id": "ld4v2sI8N4WG"
      }
    },
    {
      "cell_type": "markdown",
      "source": [
        "## 생물학적 신경세포(Biological Neuron Versus)와 인공 신경망(Artificial Neural Network) 비교\n",
        "* 신경세포(Neuron)\n",
        "\n",
        "* 인공뉴런(Artificial Neuron)\n",
        "  * 신경세포 구조를 단순화하여 모델링한 구조 (= 신경세포 구조를 모방한 인공신경망)\n",
        "  * 노드(Node)와 엣지(Edge)로 표현\n",
        "  * 하나의 노드 안에서 입력(Input)와 가중치(Weights)를 곱하고 더하는 선형구조(linear)\n",
        "  * 활성화함수(activation function)를 통한 비선형 구조(non-linear) 표현 가능\n",
        "  * 선형구조, 비선형 구조를 표현할 수 있음\n",
        " \n",
        "* 인공 신경망(Artificial Neural Network)\n",
        "  * 여러 개의 인공뉴런들이 모여 연결된 형태\n",
        "  * 뉴런들이 모인 하나의 단위를 층(layer)이라고 하며, 여러층(multi layer)으로 이루어질 수 있음 => 여러층이 있어야 복잡한 인공지능 구현 가능\n",
        "  * ex) 입력층(input layer), 은닉층(hidden layer), 출력층(output layer)"
      ],
      "metadata": {
        "id": "KO1B5W8pI2Ih"
      }
    },
    {
      "cell_type": "markdown",
      "source": [
        "## 딥러닝 프레임 워크(DeepLearning Framework)\n",
        "1. 텐서플로우(Tensorflow)\n",
        "  * 가장 널리 쓰이는 딥러닝 프레임워크 중에 하나\n",
        "  * 구글이 주도적으로 개발하는 플랫폼\n",
        "  * 파이썬, C++ API를 기본적으로 제공하고, 자바스크립트(Java Script), 자바(Java), 고(Go), 스위프트(Swift) 등 다양한 프로그래밍 언엉를 지원\n",
        "  * tf.keras를 중심으로 고수준 API 통합(2.x 버전)\n",
        "  * TPU(Tensor Processing Unit) 지원\n",
        "    * TPU는 GPU보다 전력을 적게 소모, 경제적\n",
        "    * 일반적으로 32비트(float32)로 수행되는 곱셈 연산을 16비트(float16)로 낮춤\n",
        "1. 케라스(Keras)\n",
        "  * 파이싼으로 작성된 고수준 신경망 API로, TensorFlow, CNTK, 혹은 Theano와 함께 사용가능\n",
        "  * 사용자 친화성, 모듈성, 확장성을 통해 빠르고 간편한 프로토타이핑 가능\n",
        "  * 컨볼루션 신경망, 순환 신경망, 그리고 둘의 조합까지 모두 지원\n",
        "  * CPU와 GPU에서 매끄럽게 실행"
      ],
      "metadata": {
        "id": "xWks4nwYV44l"
      }
    },
    {
      "cell_type": "markdown",
      "source": [
        "## 딥러닝 데이터 표현과 연산\n",
        "  * 데이터 표현을 위한 기본 구조로 텐서(tensor)를 사용\n",
        "  * 텐서는 데이터를 담기위한 켄데이터(container)로서 일반적으로 수치형 데이터를 저장\n",
        "\n",
        "* 보통 6텐서까지 사용하고, 텐서를 더 늘릴 수 있다.\n",
        "\n",
        "\n",
        "|차원|0D Tensor(Scalar)|1D Tensor(Vector)|2D Tensor(Matrix)|3D Tensor|4D Tensor|5D Tensor|6D Tensor| \n",
        "|--|--|--|--|--|--|--|--|\n",
        "|Rank|0|1|2|3|4|5|6|\n",
        "|Shape|()|(3,)|(3,3)|(3,3,3)|(3,3,3,3)|(3,3,3,3,3)|(3,3,3,3,3,3)|"
      ],
      "metadata": {
        "id": "eER3VY4of_88"
      }
    },
    {
      "cell_type": "markdown",
      "source": [
        "### 텐서(Tensor)\n",
        "* Rank: 축의 개수\n",
        "* Shape: 형상(각 축에 따른 차원 개수)\n",
        "* Type: 데이터 타입"
      ],
      "metadata": {
        "id": "s90r6X7LhF7G"
      }
    },
    {
      "cell_type": "code",
      "source": [
        "import numpy as np\n",
        "import tensorflow as tf\n"
      ],
      "metadata": {
        "id": "HbItdVFTidV0"
      },
      "execution_count": 4,
      "outputs": []
    },
    {
      "cell_type": "markdown",
      "source": [
        "#### 0D Tensor(scalar)\n",
        "* 단순히 하나의 숫자를 담고 있는 텐서(tensor)\n",
        "* 축과 형상이 없음"
      ],
      "metadata": {
        "id": "PSm0Rup1ihaB"
      }
    },
    {
      "cell_type": "code",
      "source": [
        "t0 = tf.constant(1) # constant()를 통해서 텐서로 변환함\n",
        "print(t0) \n",
        "print(tf.rank(t0)) # rank는 차원 단위로 표현 - 0D "
      ],
      "metadata": {
        "colab": {
          "base_uri": "https://localhost:8080/"
        },
        "id": "izCM-ovpiszO",
        "outputId": "64d205c5-8c42-4540-f23c-a50e1f772cc7"
      },
      "execution_count": 5,
      "outputs": [
        {
          "output_type": "stream",
          "name": "stdout",
          "text": [
            "tf.Tensor(1, shape=(), dtype=int32)\n",
            "tf.Tensor(0, shape=(), dtype=int32)\n"
          ]
        }
      ]
    },
    {
      "cell_type": "code",
      "source": [
        "t0 = tf.constant(3)\n",
        "print(t0) "
      ],
      "metadata": {
        "colab": {
          "base_uri": "https://localhost:8080/"
        },
        "id": "ZduvxZ3si4tL",
        "outputId": "d39df437-9124-4945-f69d-b00652876e03"
      },
      "execution_count": 8,
      "outputs": [
        {
          "output_type": "stream",
          "name": "stdout",
          "text": [
            "tf.Tensor(3, shape=(), dtype=int32)\n"
          ]
        }
      ]
    },
    {
      "cell_type": "markdown",
      "source": [
        "#### 1D Tensor(Vector)\n",
        "* 값들을 저장한 리스트와 유사한 텐서\n",
        "* 하나의 축이 존재"
      ],
      "metadata": {
        "id": "_c3HtlShlkFo"
      }
    },
    {
      "cell_type": "code",
      "source": [
        "t1= tf.constant([1,2,3]) # constant()를 통해서 텐서로 변환함 - 리스트를 텐서의 형태로 변환\n",
        "print(t1) # 모양과 3개 있음을 알 수 있음\n",
        "print(tf.rank(t1)) # 축이 1개"
      ],
      "metadata": {
        "colab": {
          "base_uri": "https://localhost:8080/"
        },
        "id": "cADYqP3kk58-",
        "outputId": "60d5b34e-3f5f-476d-f531-d9734d52ed7f"
      },
      "execution_count": 12,
      "outputs": [
        {
          "output_type": "stream",
          "name": "stdout",
          "text": [
            "tf.Tensor([1 2 3], shape=(3,), dtype=int32)\n",
            "tf.Tensor(1, shape=(), dtype=int32)\n"
          ]
        }
      ]
    },
    {
      "cell_type": "markdown",
      "source": [
        "#### 2D Tensor(Matrix)\n",
        "* 행렬과 같은 모양으로 두개의 축이 존재\n",
        "* 일반적인 수치, 통계 데이터셋이 해당\n",
        "* 주로 샘플(samples)과 특성(features)을 가진 구조로 사용\n",
        "  * 샘플 - 행, 특성 - 열"
      ],
      "metadata": {
        "id": "-dh-RbIpmOUJ"
      }
    },
    {
      "cell_type": "code",
      "source": [
        "t2 = tf.constant([[1,2,3],\n",
        "                  [4,5,6],\n",
        "                  [7,8,9]])\n",
        "print(t2)\n",
        "print(tf.rank(t2)) # 축이 2개"
      ],
      "metadata": {
        "colab": {
          "base_uri": "https://localhost:8080/"
        },
        "id": "Ll_s4GcNl85F",
        "outputId": "0f79c854-3531-41bc-bd3b-a25f470a458a"
      },
      "execution_count": 13,
      "outputs": [
        {
          "output_type": "stream",
          "name": "stdout",
          "text": [
            "tf.Tensor(\n",
            "[[1 2 3]\n",
            " [4 5 6]\n",
            " [7 8 9]], shape=(3, 3), dtype=int32)\n",
            "tf.Tensor(2, shape=(), dtype=int32)\n"
          ]
        }
      ]
    },
    {
      "cell_type": "markdown",
      "source": [
        "#### 3D Tensor\n",
        "* 큐브(cube)와 같은 모양으로 세개의 축이 존재\n",
        "* 데이터가 연속된 시퀀스 데이터나 시간 축이 포함된 시계열 데이터에 해당\n",
        "* 주식 가격 데이터셋, 시간에 따른 질병 발병 데이터 등의 존재\n",
        "* 주로 샘플(samples), 타임스텝(timesteps), 특성(features)을 가진 구조로 사용\n",
        "  * 타임스텝에 따라서 샘플과 특성이 존재하는 구조\n",
        "    * 1반 - 타임스텝\n",
        "    * 샘플(행) - 학생 개체 정보\n",
        "    * 특성(열) - 시험 점수 등"
      ],
      "metadata": {
        "id": "0tB9vTFDpaEq"
      }
    },
    {
      "cell_type": "code",
      "source": [
        "t3 = tf.constant([[[1,2,3],[4,5,6],[7,8,9]],\n",
        "                  [[1,2,3],[4,5,6],[7,8,9]],\n",
        "                  [[1,2,3],[4,5,6],[7,8,9]]])\n",
        "print(t3)\n",
        "print(tf.rank(t3))"
      ],
      "metadata": {
        "colab": {
          "base_uri": "https://localhost:8080/"
        },
        "id": "Qr4-97dbpVKn",
        "outputId": "0e17384a-8d51-4c16-b899-e6c46b904a21"
      },
      "execution_count": 15,
      "outputs": [
        {
          "output_type": "stream",
          "name": "stdout",
          "text": [
            "tf.Tensor(\n",
            "[[[1 2 3]\n",
            "  [4 5 6]\n",
            "  [7 8 9]]\n",
            "\n",
            " [[1 2 3]\n",
            "  [4 5 6]\n",
            "  [7 8 9]]\n",
            "\n",
            " [[1 2 3]\n",
            "  [4 5 6]\n",
            "  [7 8 9]]], shape=(3, 3, 3), dtype=int32)\n",
            "tf.Tensor(3, shape=(), dtype=int32)\n"
          ]
        }
      ]
    },
    {
      "cell_type": "markdown",
      "source": [
        "#### 4D Tensor\n",
        "* 4개의 축\n",
        "* 컬러 이미지가 대표적인 사례 (흑백 이미지 데이터는 3D Tensor로 가능)\n",
        "* 주로 샘플(samples), 높이(height), 너비(width), 컬러채널(channel)을 가진 구조로 사용\n",
        "  * 샘플 - 여러 이미지들이 있음\n",
        "  * 이미지 한 장의 너비와 높이, 채널(뎁스라고도 하며 이미지의 색상 정보를 가짐)"
      ],
      "metadata": {
        "id": "dW9ZSVflq5iz"
      }
    },
    {
      "cell_type": "markdown",
      "source": [
        "#### 5D Tensor\n",
        "* 5개의 축\n",
        "* 비디오 데이터가 대표적인 사례\n",
        "* 주로 샘플(samples), 프레임(frames), 높이(height), 너비(width), 컬러채널(channel)을 가진 구조로 사용"
      ],
      "metadata": {
        "id": "jVHJwLbmqok4"
      }
    },
    {
      "cell_type": "markdown",
      "source": [
        "### 텐서 데이터 타입\n",
        "* 텐서의 기본 dtype\n",
        "  * 정수형 텐서: int32\n",
        "  * 실수형 텐서: float32\n",
        "  * 문자형 텐서: string\n",
        "\n",
        "* int32, float32, string 타입 외에도 float64, int8 타입 등이 존재\n",
        "* 연산시 텐서의 타입 일치 필요\n",
        "* 타입변환에는 ft.cast() 사용\n"
      ],
      "metadata": {
        "id": "xNt3ALOvsk17"
      }
    },
    {
      "cell_type": "code",
      "source": [
        "i =tf.constant(2) # dtype=int32\n",
        "print(i)"
      ],
      "metadata": {
        "colab": {
          "base_uri": "https://localhost:8080/"
        },
        "id": "ZMqW4OcqskQD",
        "outputId": "019cb20c-e4a3-410a-feaa-138a29a4f505"
      },
      "execution_count": 16,
      "outputs": [
        {
          "output_type": "stream",
          "name": "stdout",
          "text": [
            "tf.Tensor(2, shape=(), dtype=int32)\n"
          ]
        }
      ]
    },
    {
      "cell_type": "code",
      "source": [
        "f =tf.constant(2.) # dtype=float32\n",
        "print(f)"
      ],
      "metadata": {
        "colab": {
          "base_uri": "https://localhost:8080/"
        },
        "id": "n3MEz4BBtzNV",
        "outputId": "c7ab3b4b-3d49-485f-b001-6ec5a4844963"
      },
      "execution_count": 17,
      "outputs": [
        {
          "output_type": "stream",
          "name": "stdout",
          "text": [
            "tf.Tensor(2.0, shape=(), dtype=float32)\n"
          ]
        }
      ]
    },
    {
      "cell_type": "code",
      "source": [
        "s =tf.constant('Jaeeun') # dtype=string\n",
        "print(s)"
      ],
      "metadata": {
        "colab": {
          "base_uri": "https://localhost:8080/"
        },
        "id": "4CkybqGbt5A5",
        "outputId": "aa5d08f7-7d26-44ff-8410-22185dd2d18a"
      },
      "execution_count": 18,
      "outputs": [
        {
          "output_type": "stream",
          "name": "stdout",
          "text": [
            "tf.Tensor(b'Jaeeun', shape=(), dtype=string)\n"
          ]
        }
      ]
    },
    {
      "cell_type": "code",
      "source": [
        "f16 = tf.constant(2., dtype=tf.float16)\n",
        "print(f16)"
      ],
      "metadata": {
        "colab": {
          "base_uri": "https://localhost:8080/"
        },
        "id": "QJ3qixmTuB-x",
        "outputId": "99d13945-4e2e-4976-caf4-5a64ffa6388a"
      },
      "execution_count": 21,
      "outputs": [
        {
          "output_type": "stream",
          "name": "stdout",
          "text": [
            "tf.Tensor(2.0, shape=(), dtype=float16)\n"
          ]
        }
      ]
    },
    {
      "cell_type": "code",
      "source": [
        "i8 = tf.constant(2, dtype=tf.int8)\n",
        "print(i8)"
      ],
      "metadata": {
        "colab": {
          "base_uri": "https://localhost:8080/"
        },
        "id": "KOfiy3DuuN2g",
        "outputId": "014e68d8-902f-47eb-800a-68b93f63888f"
      },
      "execution_count": 22,
      "outputs": [
        {
          "output_type": "stream",
          "name": "stdout",
          "text": [
            "tf.Tensor(2, shape=(), dtype=int8)\n"
          ]
        }
      ]
    },
    {
      "cell_type": "code",
      "source": [
        "f32 = tf.cast(f16, tf.float32) # float16 -> float32로 변환\n",
        "print(f32)"
      ],
      "metadata": {
        "colab": {
          "base_uri": "https://localhost:8080/"
        },
        "id": "JoSIyj0_ubFU",
        "outputId": "e9e7ebb9-63b0-4f1d-cead-99fdcc05a6f8"
      },
      "execution_count": 23,
      "outputs": [
        {
          "output_type": "stream",
          "name": "stdout",
          "text": [
            "tf.Tensor(2.0, shape=(), dtype=float32)\n"
          ]
        }
      ]
    },
    {
      "cell_type": "code",
      "source": [
        "i32 = tf.cast(i8, tf.int32) #  int8 -> int32로 변환\n",
        "print(i32)"
      ],
      "metadata": {
        "colab": {
          "base_uri": "https://localhost:8080/"
        },
        "id": "5rd8be8Juoh5",
        "outputId": "7da62b65-5d6f-427b-966a-a45c99606aba"
      },
      "execution_count": 24,
      "outputs": [
        {
          "output_type": "stream",
          "name": "stdout",
          "text": [
            "tf.Tensor(2, shape=(), dtype=int32)\n"
          ]
        }
      ]
    },
    {
      "cell_type": "markdown",
      "source": [
        "### 텐서 연산"
      ],
      "metadata": {
        "id": "FAOE96y4u4NU"
      }
    },
    {
      "cell_type": "code",
      "source": [
        "# 텐서간 더하기 연산\n",
        "print(tf.constant(2) + tf.constant(2))\n",
        "print(tf.add(tf.constant(2), tf.constant(2)))"
      ],
      "metadata": {
        "colab": {
          "base_uri": "https://localhost:8080/"
        },
        "id": "TgmyRRFTu0Bi",
        "outputId": "c8d94b9a-1586-420d-a532-70b2f8fc3fb1"
      },
      "execution_count": 26,
      "outputs": [
        {
          "output_type": "stream",
          "name": "stdout",
          "text": [
            "tf.Tensor(4, shape=(), dtype=int32)\n",
            "tf.Tensor(4, shape=(), dtype=int32)\n"
          ]
        }
      ]
    },
    {
      "cell_type": "code",
      "source": [
        "# 텐서간 빼기 연산\n",
        "print(tf.constant(2) - tf.constant(2))\n",
        "print(tf.subtract(tf.constant(2), tf.constant(2)))"
      ],
      "metadata": {
        "colab": {
          "base_uri": "https://localhost:8080/"
        },
        "id": "TvyjwmxvvP-R",
        "outputId": "ebbc2b0e-30be-402b-fdd6-2faf7000736d"
      },
      "execution_count": 27,
      "outputs": [
        {
          "output_type": "stream",
          "name": "stdout",
          "text": [
            "tf.Tensor(0, shape=(), dtype=int32)\n",
            "tf.Tensor(0, shape=(), dtype=int32)\n"
          ]
        }
      ]
    },
    {
      "cell_type": "code",
      "source": [
        "# 텐서간 곱하기 연산\n",
        "print(tf.constant(2) * tf.constant(2))\n",
        "print(tf.multiply(tf.constant(2), tf.constant(2)))"
      ],
      "metadata": {
        "colab": {
          "base_uri": "https://localhost:8080/"
        },
        "id": "7JbZxvqYvV04",
        "outputId": "e390973a-b041-4395-8fb7-8d0e054baa97"
      },
      "execution_count": 28,
      "outputs": [
        {
          "output_type": "stream",
          "name": "stdout",
          "text": [
            "tf.Tensor(4, shape=(), dtype=int32)\n",
            "tf.Tensor(4, shape=(), dtype=int32)\n"
          ]
        }
      ]
    },
    {
      "cell_type": "code",
      "source": [
        "# 텐서간 나누기 연산\n",
        "print(tf.constant(2) / tf.constant(2))\n",
        "print(tf.divide(tf.constant(2), tf.constant(2)))"
      ],
      "metadata": {
        "colab": {
          "base_uri": "https://localhost:8080/"
        },
        "id": "GYZXFXBBvZpY",
        "outputId": "884dec15-eaff-4c92-baeb-a6015e5e2a35"
      },
      "execution_count": 29,
      "outputs": [
        {
          "output_type": "stream",
          "name": "stdout",
          "text": [
            "tf.Tensor(1.0, shape=(), dtype=float64)\n",
            "tf.Tensor(1.0, shape=(), dtype=float64)\n"
          ]
        }
      ]
    },
    {
      "cell_type": "code",
      "source": [
        "# 텐서가 나누기 - 정수 나누기 실수\n",
        "# 같은 형이 아닌 경우 연산할 수 없음\n",
        "print(tf.constant(2) / tf.constant(2.2))"
      ],
      "metadata": {
        "colab": {
          "base_uri": "https://localhost:8080/",
          "height": 360
        },
        "id": "Za0qMLbovgZS",
        "outputId": "37295537-6bf0-4b8f-94d4-5f9c7c5aa6e8"
      },
      "execution_count": 30,
      "outputs": [
        {
          "output_type": "error",
          "ename": "TypeError",
          "evalue": "ignored",
          "traceback": [
            "\u001b[0;31m---------------------------------------------------------------------------\u001b[0m",
            "\u001b[0;31mTypeError\u001b[0m                                 Traceback (most recent call last)",
            "\u001b[0;32m<ipython-input-30-8546991d36c6>\u001b[0m in \u001b[0;36m<module>\u001b[0;34m\u001b[0m\n\u001b[1;32m      1\u001b[0m \u001b[0;31m# 텐서가 나누기 - 정수 나누기 실수\u001b[0m\u001b[0;34m\u001b[0m\u001b[0;34m\u001b[0m\u001b[0;34m\u001b[0m\u001b[0m\n\u001b[0;32m----> 2\u001b[0;31m \u001b[0mprint\u001b[0m\u001b[0;34m(\u001b[0m\u001b[0mtf\u001b[0m\u001b[0;34m.\u001b[0m\u001b[0mconstant\u001b[0m\u001b[0;34m(\u001b[0m\u001b[0;36m2\u001b[0m\u001b[0;34m)\u001b[0m \u001b[0;34m/\u001b[0m \u001b[0mtf\u001b[0m\u001b[0;34m.\u001b[0m\u001b[0mconstant\u001b[0m\u001b[0;34m(\u001b[0m\u001b[0;36m2.2\u001b[0m\u001b[0;34m)\u001b[0m\u001b[0;34m)\u001b[0m\u001b[0;34m\u001b[0m\u001b[0;34m\u001b[0m\u001b[0m\n\u001b[0m",
            "\u001b[0;32m/usr/local/lib/python3.8/dist-packages/tensorflow/python/util/traceback_utils.py\u001b[0m in \u001b[0;36merror_handler\u001b[0;34m(*args, **kwargs)\u001b[0m\n\u001b[1;32m    151\u001b[0m     \u001b[0;32mexcept\u001b[0m \u001b[0mException\u001b[0m \u001b[0;32mas\u001b[0m \u001b[0me\u001b[0m\u001b[0;34m:\u001b[0m\u001b[0;34m\u001b[0m\u001b[0;34m\u001b[0m\u001b[0m\n\u001b[1;32m    152\u001b[0m       \u001b[0mfiltered_tb\u001b[0m \u001b[0;34m=\u001b[0m \u001b[0m_process_traceback_frames\u001b[0m\u001b[0;34m(\u001b[0m\u001b[0me\u001b[0m\u001b[0;34m.\u001b[0m\u001b[0m__traceback__\u001b[0m\u001b[0;34m)\u001b[0m\u001b[0;34m\u001b[0m\u001b[0;34m\u001b[0m\u001b[0m\n\u001b[0;32m--> 153\u001b[0;31m       \u001b[0;32mraise\u001b[0m \u001b[0me\u001b[0m\u001b[0;34m.\u001b[0m\u001b[0mwith_traceback\u001b[0m\u001b[0;34m(\u001b[0m\u001b[0mfiltered_tb\u001b[0m\u001b[0;34m)\u001b[0m \u001b[0;32mfrom\u001b[0m \u001b[0;32mNone\u001b[0m\u001b[0;34m\u001b[0m\u001b[0;34m\u001b[0m\u001b[0m\n\u001b[0m\u001b[1;32m    154\u001b[0m     \u001b[0;32mfinally\u001b[0m\u001b[0;34m:\u001b[0m\u001b[0;34m\u001b[0m\u001b[0;34m\u001b[0m\u001b[0m\n\u001b[1;32m    155\u001b[0m       \u001b[0;32mdel\u001b[0m \u001b[0mfiltered_tb\u001b[0m\u001b[0;34m\u001b[0m\u001b[0;34m\u001b[0m\u001b[0m\n",
            "\u001b[0;32m/usr/local/lib/python3.8/dist-packages/tensorflow/python/ops/math_ops.py\u001b[0m in \u001b[0;36m_truediv_python3\u001b[0;34m(x, y, name)\u001b[0m\n\u001b[1;32m   1514\u001b[0m     \u001b[0my_dtype\u001b[0m \u001b[0;34m=\u001b[0m \u001b[0my\u001b[0m\u001b[0;34m.\u001b[0m\u001b[0mdtype\u001b[0m\u001b[0;34m.\u001b[0m\u001b[0mbase_dtype\u001b[0m\u001b[0;34m\u001b[0m\u001b[0;34m\u001b[0m\u001b[0m\n\u001b[1;32m   1515\u001b[0m     \u001b[0;32mif\u001b[0m \u001b[0mx_dtype\u001b[0m \u001b[0;34m!=\u001b[0m \u001b[0my_dtype\u001b[0m\u001b[0;34m:\u001b[0m\u001b[0;34m\u001b[0m\u001b[0;34m\u001b[0m\u001b[0m\n\u001b[0;32m-> 1516\u001b[0;31m       raise TypeError(f\"`x` and `y` must have the same dtype, \"\n\u001b[0m\u001b[1;32m   1517\u001b[0m                       f\"got {x_dtype!r} != {y_dtype!r}.\")\n\u001b[1;32m   1518\u001b[0m     \u001b[0;32mtry\u001b[0m\u001b[0;34m:\u001b[0m\u001b[0;34m\u001b[0m\u001b[0;34m\u001b[0m\u001b[0m\n",
            "\u001b[0;31mTypeError\u001b[0m: `x` and `y` must have the same dtype, got tf.int32 != tf.float32."
          ]
        }
      ]
    },
    {
      "cell_type": "code",
      "source": [
        "# 텐서간 형(dtype)을 맞춰서 연산함 - cast이용\n",
        "print(tf.cast(tf.constant(2), tf.float32) + tf.constant(2.2))"
      ],
      "metadata": {
        "colab": {
          "base_uri": "https://localhost:8080/"
        },
        "id": "ZLcZBwZOvylC",
        "outputId": "3b377fb3-7d8e-431a-d6fe-eec72552965d"
      },
      "execution_count": 31,
      "outputs": [
        {
          "output_type": "stream",
          "name": "stdout",
          "text": [
            "tf.Tensor(0.9090909, shape=(), dtype=float32)\n"
          ]
        }
      ]
    },
    {
      "cell_type": "markdown",
      "source": [
        "## 딥러닝 구조 및 학습\n",
        "* 딥러닝 구조와 학습에 필요한 요소\n",
        "  * **모델(네트워크)**를 구성하는 **레이어(layer)**\n",
        "  * **입력 데이터**와 그에 따른 **목적(결과)[=학습결과]**\n",
        "  * 학습시에 사용할 피드백을 정의하는 **손실함수(loss function)** \n",
        "    - 학습 정도(잘 진행됐는지, 안됐는지)를 확인 할 수 있는 손실함수\n",
        "  * 학습 진행 방식을 결정하는 옵티마이저(optimizer)\n",
        "    - 최적화와 관련"
      ],
      "metadata": {
        "id": "9BIHlSyfwKpE"
      }
    },
    {
      "cell_type": "markdown",
      "source": [
        "### 레이어(Layer)\n",
        "* 신경망의 핵심 데이터를 구조\n",
        "* 하나 이상의 텐서를 입력받아 하나 이상의 텐서를 출력하는 데이터 처리 모듈\n",
        "  * 대부분 m:m의 관계\n",
        "* 상태가 없는 레이어도 있지만, 대부분 **가중치(weight)**라는 레이어 상태를 가짐\n",
        "* 가중치는 확률적 경사 하강법에 의해 학습되는 하나 이상의 텐서\n",
        "\n",
        "* Keras에서 사용되는 주요 레이어\n",
        "  * Dense\n",
        "  * Activation\n",
        "  * Flatten\n",
        "  * Input"
      ],
      "metadata": {
        "id": "CnuQtNf3x9hR"
      }
    },
    {
      "cell_type": "code",
      "source": [
        "from tensorflow.keras.layers import Dense, Activation, Flatten, Input"
      ],
      "metadata": {
        "id": "bfhiaHxKv-5Q"
      },
      "execution_count": 32,
      "outputs": []
    },
    {
      "cell_type": "markdown",
      "source": [
        "#### Dense\n",
        "* **완전연결계충(Fully-Connected Layer)**\n",
        "  * 모든 노드가 연결된 상태\n",
        "* 노드수(유닛수), 활성화 함수(activation)등을 지정\n",
        "* `name`을 통한 레이어간 구분 가능\n",
        "  * 이름을 지정가능 - 호출도 가능\n",
        "* 가중치 초기화(`kernel_initializer`) - 노드의 가중치를 미리 지정가능\n",
        "  * 신경망의 성능에 큰 영향을 주는 요소\n",
        "  * 보통 가중치의 초기값으로 0에 가까운 무작위 값 사용\n",
        "  * 특정 구조의 신경망을 동일한 학습데이터로 학습시키더라도, 가중치의 초기값에 따라 학습된 신경망의 성능 차이가 날 수 있음\n",
        "  * 오차역전파 알고리즘은 기본적으로 경사하강법을 사용하기때문에 최적화가 아닌 지역해에 빠질 가능성이 있음\n",
        "  * Keras에서는 기본적으로 Glorot uniform 가중치(Xavier 분포 초기화), zero bias로 초기화\n",
        "  * `kernel_initializer` 인자를 통해 다른 가중치 초기화 지정가능\n",
        "  * Keras에서 제공;하는 가중치 초기화 종류: https://keras.io/api/layers/initializers/"
      ],
      "metadata": {
        "id": "Lxgr9POa247v"
      }
    },
    {
      "cell_type": "code",
      "source": [
        "Dense(10, activation='softmax') # 노드(유닛수) :10 , 활성화 함수는 softmax"
      ],
      "metadata": {
        "colab": {
          "base_uri": "https://localhost:8080/"
        },
        "id": "qJBdKRtR4nsL",
        "outputId": "b57b0344-c5b0-459d-ef7f-1c765b4636ee"
      },
      "execution_count": 33,
      "outputs": [
        {
          "output_type": "execute_result",
          "data": {
            "text/plain": [
              "<keras.layers.core.dense.Dense at 0x7f57bf674220>"
            ]
          },
          "metadata": {},
          "execution_count": 33
        }
      ]
    },
    {
      "cell_type": "code",
      "source": [
        "Dense(10, activation='relu', name='Dense Layer') # 노드(유닛수) :10 , 활성화 함수는 relu, 이름은 Dense Layer"
      ],
      "metadata": {
        "colab": {
          "base_uri": "https://localhost:8080/"
        },
        "id": "xofbBxBT5BdR",
        "outputId": "4d92532a-6ced-4ce6-b169-d7d53eebf985"
      },
      "execution_count": 34,
      "outputs": [
        {
          "output_type": "execute_result",
          "data": {
            "text/plain": [
              "<keras.layers.core.dense.Dense at 0x7f57bf693c70>"
            ]
          },
          "metadata": {},
          "execution_count": 34
        }
      ]
    },
    {
      "cell_type": "code",
      "source": [
        "Dense(10, kernel_initializer='he_normal', name='Dense Layer') # 노드(유닛수) :10, 가중치 초기화 방법: he_normal, 이름은 Dense Layer"
      ],
      "metadata": {
        "colab": {
          "base_uri": "https://localhost:8080/"
        },
        "id": "22cd9DYx5HW2",
        "outputId": "6552224a-463f-4bdc-ce1e-1ac24d3bb253"
      },
      "execution_count": 37,
      "outputs": [
        {
          "output_type": "execute_result",
          "data": {
            "text/plain": [
              "<keras.layers.core.dense.Dense at 0x7f57bf693700>"
            ]
          },
          "metadata": {},
          "execution_count": 37
        }
      ]
    },
    {
      "cell_type": "markdown",
      "source": [
        "#### Activation\n",
        "* Dense layer에서 미리 활성화 함수를 지정할 수도 있지만 필요에 따라 별도 레이어를 만들어 줄 수 있음\n",
        "* Keras에서 제공하는 활성화 함수(activation funcion) 종류: https://keras.io/ko/activations/\n",
        "\n",
        "*  종류\n",
        "  * Sigmoid\n",
        "    * 대표적인 함수\n",
        "  * tanh\n",
        "  * ReLU\n",
        "    * 0이후 부터 값이 올라감\n",
        "  * Leaky ReLU\n",
        "    * 음수를 표현할 수 있음\n",
        "  * Maxout\n",
        "  * ELU"
      ],
      "metadata": {
        "id": "EKDwxZod54rH"
      }
    },
    {
      "cell_type": "code",
      "source": [
        "# Dense에서 선언\n",
        "dense = Dense(10, activation='relu', name='Dense Layer')\n",
        "# 별도의 레이어에서 선언 가능\n",
        "Activation(dense)"
      ],
      "metadata": {
        "colab": {
          "base_uri": "https://localhost:8080/"
        },
        "id": "_qjlu_HT5OXk",
        "outputId": "9a948914-ced4-42ce-beb6-e59903f7507e"
      },
      "execution_count": 39,
      "outputs": [
        {
          "output_type": "execute_result",
          "data": {
            "text/plain": [
              "<keras.layers.core.activation.Activation at 0x7f57bf693f70>"
            ]
          },
          "metadata": {},
          "execution_count": 39
        }
      ]
    },
    {
      "cell_type": "markdown",
      "source": [
        "#### Flatten\n",
        "* 배치 크기(또는 데이터 크기)를 제외하고 데이터를 1차원으로 쭉 펼치는 작업\n",
        "* 예시\n",
        "```\n",
        "(128, 3, 2, 2) -> (128,12)\n",
        "```\n",
        "\n"
      ],
      "metadata": {
        "id": "VjKVX6867NyL"
      }
    },
    {
      "cell_type": "code",
      "source": [
        "Flatten(input_shape=(128,3,3,3))"
      ],
      "metadata": {
        "colab": {
          "base_uri": "https://localhost:8080/"
        },
        "id": "P2xAtg317DP7",
        "outputId": "86d56797-afa7-46b1-9db0-45cd309b4502"
      },
      "execution_count": 40,
      "outputs": [
        {
          "output_type": "execute_result",
          "data": {
            "text/plain": [
              "<keras.layers.reshaping.flatten.Flatten at 0x7f57bf6932e0>"
            ]
          },
          "metadata": {},
          "execution_count": 40
        }
      ]
    },
    {
      "cell_type": "markdown",
      "source": [
        "#### Input\n",
        "* 모델의 입력을 정의\n",
        "* `shape`, `dtype`을 포함\n",
        "* 하나의 모델은 여러 개의 입력을 가질 수 있음\n",
        "* `summary`메소드를 통해서 보이지 않음"
      ],
      "metadata": {
        "id": "sSqLsa-q76ve"
      }
    },
    {
      "cell_type": "code",
      "source": [
        "Input(shape=(28,28), dtype=tf.float32) # input_1"
      ],
      "metadata": {
        "colab": {
          "base_uri": "https://localhost:8080/"
        },
        "id": "RkyywWFo8LXo",
        "outputId": "f5c8b873-4760-4b8f-b4e4-bd39e9914774"
      },
      "execution_count": 45,
      "outputs": [
        {
          "output_type": "execute_result",
          "data": {
            "text/plain": [
              "<KerasTensor: shape=(None, 28, 28) dtype=float32 (created by layer 'input_1')>"
            ]
          },
          "metadata": {},
          "execution_count": 45
        }
      ]
    },
    {
      "cell_type": "code",
      "source": [
        "Input(shape=(8,), dtype=tf.int32) # input_2"
      ],
      "metadata": {
        "colab": {
          "base_uri": "https://localhost:8080/"
        },
        "id": "h66BJKYX8VtG",
        "outputId": "07f4964e-7c67-47a0-d281-2619c1886872"
      },
      "execution_count": 46,
      "outputs": [
        {
          "output_type": "execute_result",
          "data": {
            "text/plain": [
              "<KerasTensor: shape=(None, 8) dtype=int32 (created by layer 'input_2')>"
            ]
          },
          "metadata": {},
          "execution_count": 46
        }
      ]
    },
    {
      "cell_type": "markdown",
      "source": [
        "### 모델(Model)\n",
        "* 딥러닝 모델은 레이어로 만들어진 비순환 유향 그래프(Directed Acyclic Grap)\n",
        "  * 순환 즉 사이클이 없는 그래프"
      ],
      "metadata": {
        "id": "8XjnfLGe9cVs"
      }
    },
    {
      "cell_type": "markdown",
      "source": [
        "#### 모델 구성\n",
        "  * `sequential()`\n",
        "  * 서브클래싱(subclassing)\n",
        "  *  함수형 API"
      ],
      "metadata": {
        "id": "BqywDeD9_1ak"
      }
    },
    {
      "cell_type": "markdown",
      "source": [
        "##### Sequential()\n",
        "* 모델이 순차적인 구조로 진행할 때 사용\n",
        "* 간단한 방법\n",
        "  * Sequential 객체 생성 후, add()를 이용한 방법\n",
        "  * Sequential 인자에 한번에 추가하는 방법\n",
        "* 다중 입력 및 출력이 존재하는 등의 복잡한 모델을 구성할 수 없음"
      ],
      "metadata": {
        "id": "3PPFMzii8hmZ"
      }
    },
    {
      "cell_type": "code",
      "source": [],
      "metadata": {
        "id": "N4YfDTniAnjh"
      },
      "execution_count": null,
      "outputs": []
    }
  ]
}